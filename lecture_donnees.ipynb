{
 "cells": [
  {
   "cell_type": "code",
   "execution_count": 23,
   "metadata": {},
   "outputs": [],
   "source": [
    "import os\n",
    "\n",
    "import pandas as pd\n",
    "import s3fs\n",
    "import zipfile\n",
    "from scipy.io import loadmat"
   ]
  },
  {
   "cell_type": "markdown",
   "metadata": {},
   "source": [
    "## Download les données"
   ]
  },
  {
   "cell_type": "code",
   "execution_count": 17,
   "metadata": {},
   "outputs": [],
   "source": [
    "# Create filesystem object\n",
    "S3_ENDPOINT_URL = \"https://\" + os.environ[\"AWS_S3_ENDPOINT\"]\n",
    "fs = s3fs.S3FileSystem(client_kwargs={'endpoint_url': S3_ENDPOINT_URL})"
   ]
  },
  {
   "cell_type": "code",
   "execution_count": 18,
   "metadata": {},
   "outputs": [
    {
     "data": {
      "text/plain": [
       "['gvimont/diffusion/hackathon-minarm-2024/AIVSAI',\n",
       " 'gvimont/diffusion/hackathon-minarm-2024/Acoustique',\n",
       " 'gvimont/diffusion/hackathon-minarm-2024/Similarité']"
      ]
     },
     "execution_count": 18,
     "metadata": {},
     "output_type": "execute_result"
    }
   ],
   "source": [
    "# Lister les challenges\n",
    "fs.ls(\"gvimont/diffusion/hackathon-minarm-2024\")"
   ]
  },
  {
   "cell_type": "code",
   "execution_count": 19,
   "metadata": {},
   "outputs": [
    {
     "data": {
      "text/plain": [
       "['gvimont/diffusion/hackathon-minarm-2024/Similarité/.keep',\n",
       " 'gvimont/diffusion/hackathon-minarm-2024/Similarité/archive.zip']"
      ]
     },
     "execution_count": 19,
     "metadata": {},
     "output_type": "execute_result"
    }
   ],
   "source": [
    "# Lister les fichiers d'un challenge\n",
    "fs.ls(\"gvimont/diffusion/hackathon-minarm-2024/Similarité\")"
   ]
  },
  {
   "cell_type": "code",
   "execution_count": 20,
   "metadata": {},
   "outputs": [
    {
     "data": {
      "text/plain": [
       "[None]"
      ]
     },
     "execution_count": 20,
     "metadata": {},
     "output_type": "execute_result"
    }
   ],
   "source": [
    "# Télécharger les données dans le service\n",
    "PATH_IN = 'gvimont/diffusion/hackathon-minarm-2024/Similarité/archive.zip'\n",
    "fs.download(PATH_IN, 'data/archive.zip')"
   ]
  },
  {
   "cell_type": "code",
   "execution_count": 21,
   "metadata": {},
   "outputs": [],
   "source": [
    "# Décompresser les données\n",
    "with zipfile.ZipFile(\"data/archive.zip\",\"r\") as zip_file:\n",
    "    zip_file.extractall(\"data/\")"
   ]
  },
  {
   "cell_type": "markdown",
   "metadata": {},
   "source": [
    "## Create dataframe"
   ]
  },
  {
   "cell_type": "code",
   "execution_count": 45,
   "metadata": {},
   "outputs": [
    {
     "data": {
      "text/plain": [
       "<bound method NDFrame.head of          relative_im_path  bbox_x1  bbox_y1  bbox_x2  bbox_y2  class  test\n",
       "0      car_ims/000001.jpg      112        7      853      717      1     0\n",
       "1      car_ims/000002.jpg       48       24      441      202      1     0\n",
       "2      car_ims/000003.jpg        7        4      277      180      1     0\n",
       "3      car_ims/000004.jpg       33       50      197      150      1     0\n",
       "4      car_ims/000005.jpg        5        8       83       58      1     0\n",
       "...                   ...      ...      ...      ...      ...    ...   ...\n",
       "16180  car_ims/016181.jpg       38       36      375      234    196     1\n",
       "16181  car_ims/016182.jpg       29       34      235      164    196     1\n",
       "16182  car_ims/016183.jpg       25       32      587      359    196     1\n",
       "16183  car_ims/016184.jpg       56       60      208      186    196     1\n",
       "16184  car_ims/016185.jpg        1        1      200      131    196     1\n",
       "\n",
       "[16185 rows x 7 columns]>"
      ]
     },
     "execution_count": 45,
     "metadata": {},
     "output_type": "execute_result"
    }
   ],
   "source": [
    "mat_data = loadmat(\"data/cars_annos.mat\")\n",
    "\n",
    "annotations = mat_data[\"annotations\"]\n",
    "\n",
    "data = []\n",
    "\n",
    "for ann in annotations[0]:\n",
    "    relative_im_path = ann['relative_im_path'][0]\n",
    "    bbox_x1 = ann['bbox_x1'][0][0]\n",
    "    bbox_y1 = ann['bbox_y1'][0][0]\n",
    "    bbox_x2 = ann['bbox_x2'][0][0]\n",
    "    bbox_y2 = ann['bbox_y2'][0][0]\n",
    "    class_name = ann['class'][0][0]\n",
    "    test = ann['test'][0][0]\n",
    "    data.append([relative_im_path, bbox_x1, bbox_y1, bbox_x2, bbox_y2, class_name, test])\n",
    "\n",
    "df = pd.DataFrame(data, columns=['relative_im_path', 'bbox_x1', 'bbox_y1', 'bbox_x2', 'bbox_y2', 'class', 'test'])\n",
    "df.head"
   ]
  }
 ],
 "metadata": {
  "kernelspec": {
   "display_name": "base",
   "language": "python",
   "name": "python3"
  },
  "language_info": {
   "codemirror_mode": {
    "name": "ipython",
    "version": 3
   },
   "file_extension": ".py",
   "mimetype": "text/x-python",
   "name": "python",
   "nbconvert_exporter": "python",
   "pygments_lexer": "ipython3",
   "version": "3.11.6"
  }
 },
 "nbformat": 4,
 "nbformat_minor": 2
}
